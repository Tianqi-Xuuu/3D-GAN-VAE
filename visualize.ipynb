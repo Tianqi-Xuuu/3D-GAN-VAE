{
 "cells": [
  {
   "cell_type": "code",
   "execution_count": 1,
   "metadata": {},
   "outputs": [],
   "source": [
    "import numpy as np\n",
    "from matplotlib import pyplot as plt\n",
    "from scipy.ndimage import rotate\n",
    "from skimage.transform import resize"
   ]
  },
  {
   "cell_type": "code",
   "execution_count": 32,
   "metadata": {},
   "outputs": [],
   "source": [
    "\n",
    "def visualize_oblique_projection(volume, save_path, angles=(90, 30), gt_img=None):\n",
    "    if volume.ndim != 3:\n",
    "        raise ValueError(\"Input volume must be a 3D numpy array.\")\n",
    "    \n",
    "    # Rotate the volume for oblique projection\n",
    "    rotated_volume = rotate(volume, angle=angles[0], axes=(1, 2), reshape=False, order=1)\n",
    "    rotated_volume = rotate(rotated_volume, angle=angles[1], axes=(0, 2), reshape=False, order=1)\n",
    "    \n",
    "    # Max projection along an axis to get a 2D image\n",
    "    image = np.max(rotated_volume, axis=0)\n",
    "    image = (image - image.min()) / (image.max() - image.min())  # Normalize to [0, 1]\n",
    "    \n",
    "    # Plot side-by-side using matplotlib\n",
    "    fig, ax = plt.subplots(1, 2 if gt_img is not None else 1, figsize=(8, 4))\n",
    "\n",
    "    if gt_img is not None:\n",
    "        gt_img = resize(gt_img, (image.shape[0], image.shape[1]), anti_aliasing=True)\n",
    "        gt_img = (gt_img - gt_img.min()) / (gt_img.max() - gt_img.min())  # Normalize to [0, 1]\n",
    "        ax[0].imshow(gt_img)\n",
    "        ax[0].axis('off')\n",
    "        ax[0].set_title(\"Ground Truth\")\n",
    "        \n",
    "        # Plot the generated grayscale image next to it\n",
    "        ax[1].imshow(image, cmap=\"viridis\")\n",
    "        ax[1].axis('off')\n",
    "        ax[1].set_title(\"Generated Projection\")\n",
    "    else:\n",
    "        # Plot only the generated grayscale image\n",
    "        ax.imshow(image, cmap=\"viridis\")\n",
    "        ax.axis('off')\n",
    "\n",
    "    # Save the plot to the given path\n",
    "    plt.tight_layout()\n",
    "    plt.savefig(save_path, bbox_inches='tight', pad_inches=0)\n",
    "    plt.close()"
   ]
  },
  {
   "cell_type": "code",
   "execution_count": 33,
   "metadata": {},
   "outputs": [
    {
     "name": "stdout",
     "output_type": "stream",
     "text": [
      "(64, 64, 64, 64)\n"
     ]
    }
   ],
   "source": [
    "import os\n",
    "\n",
    "# 读取 .npy 文件\n",
    "file_path = '/data/3Dgan/3D-GAN-keras/Saved/20241009-150012/sample/sample_epoch_501.npy'\n",
    "generated_volume = np.load(file_path)\n",
    "generated_volume = np.squeeze(generated_volume)\n",
    "print(generated_volume.shape)\n",
    "\n",
    "save_path = file_path.removesuffix('.npy')\n",
    "os.makedirs(save_path, exist_ok=True)\n",
    "\n",
    "for i in range(generated_volume.shape[0]):\n",
    "    save_path_img = os.path.join(save_path, f'{i}.png')\n",
    "    visualize_oblique_projection(generated_volume[i], save_path_img, angles=(90, 30))"
   ]
  }
 ],
 "metadata": {
  "kernelspec": {
   "display_name": "pytorch",
   "language": "python",
   "name": "python3"
  },
  "language_info": {
   "codemirror_mode": {
    "name": "ipython",
    "version": 3
   },
   "file_extension": ".py",
   "mimetype": "text/x-python",
   "name": "python",
   "nbconvert_exporter": "python",
   "pygments_lexer": "ipython3",
   "version": "3.9.18"
  }
 },
 "nbformat": 4,
 "nbformat_minor": 2
}
